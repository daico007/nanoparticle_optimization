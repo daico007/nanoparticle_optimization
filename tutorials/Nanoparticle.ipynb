{
 "cells": [
  {
   "cell_type": "markdown",
   "metadata": {},
   "source": [
    "# Deriving Potentials for Coarse-Grained Nanoparticles\n",
    "\n",
    "Here, we move beyond the simple point-particle system.  Our system will now contain two coarse-grained nanoparticles, constructed as a spherical shell of coarse-grained beads, or child particles.  To define our forcefield, we need to derive the interaction between two of these coarse-grained beads.  This is achieved by matching the interaction potential between two coarse-grained nanoparticles to the potential between two all-atom nanoparticles."
   ]
  },
  {
   "cell_type": "code",
   "execution_count": 1,
   "metadata": {
    "collapsed": false
   },
   "outputs": [
    {
     "data": {
      "text/plain": [
       "<matplotlib.text.Text at 0x10d1834e0>"
      ]
     },
     "execution_count": 1,
     "metadata": {},
     "output_type": "execute_result"
    },
    {
     "data": {
      "image/png": "[encoded data removed]",
      "text/plain": [
       "<matplotlib.figure.Figure at 0x104915908>"
      ]
     },
     "metadata": {},
     "output_type": "display_data"
    }
   ],
   "source": [
    "import pkg_resources\n",
    "\n",
    "import numpy as np\n",
    "\n",
    "import nanoparticle_optimization\n",
    "from nanoparticle_optimization.target import load\n",
    "\n",
    "resource_package = nanoparticle_optimization.__name__\n",
    "resource_path = '/'.join(('utils', '3nm_target.txt'))\n",
    "target = load(pkg_resources.resource_filename(resource_package, resource_path))\n",
    "\n",
    "target.separations /= 10.0\n",
    "\n",
    "import matplotlib.pyplot as plt\n",
    "%matplotlib inline\n",
    "plt.plot(target.separations, target.potential, linestyle='None', marker='o', color='black')\n",
    "plt.xlabel('r, nm')\n",
    "plt.ylabel('U, kcal/mol')"
   ]
  },
  {
   "cell_type": "markdown",
   "metadata": {},
   "source": [
    "We load atomistic target data for the interaction potential between two nanoparticles with radii of 3nm."
   ]
  },
  {
   "cell_type": "code",
   "execution_count": 2,
   "metadata": {
    "collapsed": false
   },
   "outputs": [
    {
     "name": "stderr",
     "output_type": "stream",
     "text": [
      "/Users/summeraz/anaconda/envs/py3/lib/python3.5/site-packages/jupyter_core/application.py:106: DeprecationWarning: metadata {'config': True} was set from the constructor. With traitlets 4.1, metadata should be set using the .tag() method, e.g., Int().tag(key1='value1', key2='value2')\n",
      "  help=\"\"\"Generate default config file.\"\"\"\n",
      "/Users/summeraz/anaconda/envs/py3/lib/python3.5/site-packages/notebook/nbextensions.py:628: DeprecationWarning: metadata {'config': True} was set from the constructor. With traitlets 4.1, metadata should be set using the .tag() method, e.g., Int().tag(key1='value1', key2='value2')\n",
      "  user = Bool(False, config=True, help=\"Whether to do a user install\")\n",
      "/Users/summeraz/anaconda/envs/py3/lib/python3.5/site-packages/ipywidgets/widgets/widget.py:166: DeprecationWarning: Widget._keys_default is deprecated in traitlets 4.1: use @default decorator instead.\n",
      "  def _keys_default(self):\n"
     ]
    }
   ],
   "source": [
    "from nanoparticle_optimization.lib.CG_nano import CG_nano\n",
    "\n",
    "nano = CG_nano(r=3.0, sigma=0.8)\n",
    "nano.visualize()"
   ]
  },
  {
   "cell_type": "markdown",
   "metadata": {},
   "source": [
    "The coarse-grained nanoparticle is constructed as a hollow sphere of pseudo-atoms.  We have created a nanoparticle with a radius of 3nm (to match our atomistic model) and a `sigma` of 0.8nm.  `Sigma` defines the radius of the pseudo-atoms and also corresponds to the `sigma` in the Mie forcefield defining their interactions.  Thus, larger values of `sigma` can be used to create a more coarse-grained nanoparticle."
   ]
  },
  {
   "cell_type": "code",
   "execution_count": 3,
   "metadata": {
    "collapsed": false
   },
   "outputs": [],
   "source": [
    "from nanoparticle_optimization.forcefield import Mie, Parameter\n",
    "from nanoparticle_optimization.system import System\n",
    "\n",
    "sigma = Parameter(value=0.8, fixed=True)\n",
    "epsilon = Parameter(value=6.0, upper=20.0, lower=0.1)\n",
    "n = Parameter(value=14.0, upper=40.0, lower=10.0)\n",
    "m = Parameter(value=5.0, upper=20.0, lower=3.0)\n",
    "ff = Mie(sigma=sigma, epsilon=epsilon, n=n, m=m)\n",
    "\n",
    "system = System(nano)"
   ]
  },
  {
   "cell_type": "markdown",
   "metadata": {},
   "source": [
    "We hold `sigma` fixed to the radius of the psuedo-atoms and allow `epsilon`, `n`, and `m` to be optimized."
   ]
  },
  {
   "cell_type": "code",
   "execution_count": 4,
   "metadata": {
    "collapsed": false
   },
   "outputs": [
    {
     "name": "stderr",
     "output_type": "stream",
     "text": [
      "/Users/summeraz/anaconda/envs/py3/lib/python3.5/site-packages/openmdao/units/units.py:729: DeprecationWarning: This method will be removed in future versions.  Use 'parser.read_file()' instead.\n",
      "  _UNIT_LIB.readfp(libfilepointer)\n"
     ]
    },
    {
     "name": "stdout",
     "output_type": "stream",
     "text": [
      "##############################################\n",
      "Setup: Checking root problem for potential issues...\n",
      "\n",
      "No recorders have been specified, so no data will be saved.\n",
      "\n",
      "Setup: Check of root problem complete.\n",
      "##############################################\n",
      "\n",
      "Current values:\n",
      "n:\t14.0\n",
      "m:\t5.0\n",
      "epsilon:\t6.0\n",
      "Residual:\t0.6457724751592058\n",
      "\n",
      "Current values:\n",
      "n:\t14.0\n",
      "m:\t5.0\n",
      "epsilon:\t6.0\n",
      "Residual:\t0.6457742147399187\n",
      "\n",
      "Current values:\n",
      "n:\t21.0\n",
      "m:\t5.0\n",
      "epsilon:\t6.0\n",
      "Residual:\t0.5527630650625182\n",
      "\n",
      "Current values:\n",
      "n:\t21.0\n",
      "m:\t7.5\n",
      "epsilon:\t6.0\n",
      "Residual:\t0.48241312852490353\n",
      "\n",
      "Current values:\n",
      "n:\t21.0\n",
      "m:\t7.5\n",
      "epsilon:\t9.0\n",
      "Residual:\t0.31276071801802674\n",
      "\n",
      "Current values:\n",
      "n:\t24.162581117216227\n",
      "m:\t8.354303802988344\n",
      "epsilon:\t11.472235910058078\n",
      "Residual:\t0.4850431545736316\n",
      "\n",
      "Current values:\n",
      "n:\t17.602006164349145\n",
      "m:\t7.614753339400739\n",
      "epsilon:\t9.33208013996101\n",
      "Residual:\t0.2519682089021506\n",
      "\n",
      "Current values:\n",
      "n:\t16.880995147006946\n",
      "m:\t6.425048396999162\n",
      "epsilon:\t9.6731712978533\n",
      "Residual:\t0.20893033452378335\n",
      "\n",
      "Current values:\n",
      "n:\t15.269109429033106\n",
      "m:\t6.228429205289155\n",
      "epsilon:\t10.983558632175512\n",
      "Residual:\t0.3859982640918703\n",
      "\n",
      "Current values:\n",
      "n:\t15.437905503487393\n",
      "m:\t6.105115039503429\n",
      "epsilon:\t8.361643946435041\n",
      "Residual:\t0.30874571965127734\n",
      "\n",
      "Current values:\n",
      "n:\t18.528436293151803\n",
      "m:\t6.218141259484261\n",
      "epsilon:\t9.624678574753734\n",
      "Residual:\t0.25210840326802775\n",
      "\n",
      "Current values:\n",
      "n:\t16.512157977289235\n",
      "m:\t6.3464254963796884\n",
      "epsilon:\t9.346465839445994\n",
      "Residual:\t0.23306307942094298\n",
      "\n",
      "Current values:\n",
      "n:\t17.004205740156326\n",
      "m:\t6.562066150852078\n",
      "epsilon:\t9.600140036398901\n",
      "Residual:\t0.15270359133398254\n",
      "\n",
      "Current values:\n",
      "n:\t17.130032464346726\n",
      "m:\t6.869050651499206\n",
      "epsilon:\t9.555282949536126\n",
      "Residual:\t0.06842020374611861\n",
      "\n",
      "Current values:\n",
      "n:\t17.087117060470224\n",
      "m:\t7.012736125057164\n",
      "epsilon:\t9.222781550042175\n",
      "Residual:\t0.05081855919710985\n",
      "\n",
      "Current values:\n",
      "n:\t17.941223140644613\n",
      "m:\t7.08013734450928\n",
      "epsilon:\t9.213090938371403\n",
      "Residual:\t0.09404289941113861\n",
      "\n",
      "Current values:\n",
      "n:\t16.627205272382707\n",
      "m:\t7.263214070024715\n",
      "epsilon:\t9.329693425638151\n",
      "Residual:\t0.11213949466356384\n",
      "\n",
      "Current values:\n",
      "n:\t16.958177743518213\n",
      "m:\t6.893911867907261\n",
      "epsilon:\t9.11428749090821\n",
      "Residual:\t0.05346623661867134\n",
      "\n",
      "Current values:\n",
      "n:\t17.083797055905414\n",
      "m:\t6.96703173678517\n",
      "epsilon:\t9.298801513061418\n",
      "Residual:\t0.04959883922543215\n",
      "\n",
      "Current values:\n",
      "n:\t16.97930535079683\n",
      "m:\t6.976711892511323\n",
      "epsilon:\t9.306343928663209\n",
      "Residual:\t0.0509060335120023\n",
      "\n",
      "Current values:\n",
      "n:\t17.281701927639393\n",
      "m:\t6.958202395567148\n",
      "epsilon:\t9.337311080778582\n",
      "Residual:\t0.04878436365941867\n",
      "\n",
      "Current values:\n",
      "n:\t17.33039505193169\n",
      "m:\t6.8875295039889295\n",
      "epsilon:\t9.303233786051536\n",
      "Residual:\t0.053914583866648255\n",
      "\n",
      "Current values:\n",
      "n:\t17.312128455760448\n",
      "m:\t6.974463391079899\n",
      "epsilon:\t9.296734476565737\n",
      "Residual:\t0.04689986295367107\n",
      "\n",
      "Current values:\n",
      "n:\t17.39692056187683\n",
      "m:\t7.046371847879894\n",
      "epsilon:\t9.291989431117639\n",
      "Residual:\t0.06265599461663394\n",
      "\n",
      "Current values:\n",
      "n:\t17.210542714302857\n",
      "m:\t6.975715574042575\n",
      "epsilon:\t9.279426689945584\n",
      "Residual:\t0.047593273104509795\n",
      "\n",
      "Current values:\n",
      "n:\t17.3376468475755\n",
      "m:\t6.941985867606899\n",
      "epsilon:\t9.27309631499728\n",
      "Residual:\t0.04742254266075723\n",
      "\n",
      "Current values:\n",
      "n:\t17.341584076385537\n",
      "m:\t6.9882948198991865\n",
      "epsilon:\t9.28603536417763\n",
      "Residual:\t0.04742859214072882\n",
      "\n",
      "Current values:\n",
      "n:\t17.28864920340594\n",
      "m:\t6.975832455758938\n",
      "epsilon:\t9.290957331129093\n",
      "Residual:\t0.046538851160255336\n",
      "\n",
      "Current values:\n",
      "n:\t17.261474757255293\n",
      "m:\t6.975846966128019\n",
      "epsilon:\t9.292259263819197\n",
      "Residual:\t0.04690659088697505\n",
      "\n",
      "Current values:\n",
      "n:\t17.288278603415645\n",
      "m:\t6.971081776135463\n",
      "epsilon:\t9.289612804832364\n",
      "Residual:\t0.047055469322219295\n",
      "\n",
      "Current values:\n",
      "n:\t17.293537151056977\n",
      "m:\t6.983772153503536\n",
      "epsilon:\t9.284463880835638\n",
      "Residual:\t0.046739805920363524\n",
      "\n",
      "Current values:\n",
      "n:\t17.29008821048632\n",
      "m:\t6.972619696305282\n",
      "epsilon:\t9.286588291237369\n",
      "Residual:\t0.04696088367668545\n",
      "\n",
      "Current values:\n",
      "n:\t17.289577239893617\n",
      "m:\t6.978137486283515\n",
      "epsilon:\t9.290077603262034\n",
      "Residual:\t0.04670802479365294\n",
      "\n",
      "Current values:\n",
      "n:\t17.291985165065483\n",
      "m:\t6.975740450440386\n",
      "epsilon:\t9.291256566301955\n",
      "Residual:\t0.046550107409815564\n",
      "\n",
      "Current values:\n",
      "n:\t17.28674564353141\n",
      "m:\t6.975390637895582\n",
      "epsilon:\t9.293720739946712\n",
      "Residual:\t0.046633421702502245\n",
      "\n",
      "Current values:\n",
      "n:\t17.28852429550075\n",
      "m:\t6.974810492987347\n",
      "epsilon:\t9.29015798504894\n",
      "Residual:\t0.04697734408052993\n",
      "\n",
      "Current values:\n",
      "n:\t17.288301305059026\n",
      "m:\t6.975951782719887\n",
      "epsilon:\t9.291659974106887\n",
      "Residual:\t0.0465052827002203\n",
      "\n",
      "Current values:\n",
      "n:\t17.28841816145544\n",
      "m:\t6.976559595374537\n",
      "epsilon:\t9.291615866241905\n",
      "Residual:\t0.0468433750941103\n",
      "\n",
      "Current values:\n",
      "n:\t17.287468581292327\n",
      "m:\t6.975968184785852\n",
      "epsilon:\t9.291580233501586\n",
      "Residual:\t0.04706999978122869\n",
      "\n",
      "Current values:\n",
      "n:\t17.289836677448914\n",
      "m:\t6.975749353523005\n",
      "epsilon:\t9.291870801192337\n",
      "Residual:\t0.04673069371014858\n",
      "\n",
      "Current values:\n",
      "n:\t17.28764729838365\n",
      "m:\t6.975755762692018\n",
      "epsilon:\t9.291674753128174\n",
      "Residual:\t0.046948039583081344\n",
      "\n",
      "Current values:\n",
      "n:\t17.288379386268737\n",
      "m:\t6.976100496437316\n",
      "epsilon:\t9.291636286415185\n",
      "Residual:\t0.04670463752564957\n",
      "\n",
      "Current values:\n",
      "n:\t17.288286622186146\n",
      "m:\t6.975962763384578\n",
      "epsilon:\t9.291750354843819\n",
      "Residual:\t0.04659678126370223\n",
      "\n",
      "Current values:\n",
      "n:\t17.288666357737405\n",
      "m:\t6.975876070933947\n",
      "epsilon:\t9.291631757521518\n",
      "Residual:\t0.04698603950637137\n",
      "\n",
      "Current values:\n",
      "n:\t17.28810053387054\n",
      "m:\t6.97594007004829\n",
      "epsilon:\t9.291632034035299\n",
      "Residual:\t0.046805924310940696\n",
      "\n",
      "Current values:\n",
      "n:\t17.288396885970368\n",
      "m:\t6.975935218706622\n",
      "epsilon:\t9.291655241209458\n",
      "Residual:\t0.046831222576561124\n",
      "\n",
      "Current values:\n",
      "n:\t17.2883087231561\n",
      "m:\t6.975989163438636\n",
      "epsilon:\t9.291651416626772\n",
      "Residual:\t0.04669509500605041\n",
      "\n",
      "Current values:\n",
      "n:\t17.288251649790848\n",
      "m:\t6.975945072636263\n",
      "epsilon:\t9.29165749238653\n",
      "Residual:\t0.04664722063259143\n",
      "\n",
      "Current values:\n",
      "n:\t17.288300815133923\n",
      "m:\t6.975953669674824\n",
      "epsilon:\t9.29168274904046\n",
      "Residual:\t0.04739616038908809\n",
      "\n",
      "Current values:\n",
      "n:\t17.28830177328928\n",
      "m:\t6.975957106129145\n",
      "epsilon:\t9.291650480990404\n",
      "Residual:\t0.04713123440381039\n",
      "\n",
      "Current values:\n",
      "n:\t17.28831208082332\n",
      "m:\t6.975943198048522\n",
      "epsilon:\t9.291658098865993\n",
      "Residual:\t0.046773301353167956\n",
      "\n",
      "Current values:\n",
      "n:\t17.288300274946824\n",
      "m:\t6.975952445471335\n",
      "epsilon:\t9.291665623390271\n",
      "Residual:\t0.04724414487210686\n",
      "\n",
      "Current values:\n",
      "n:\t17.288307949058954\n",
      "m:\t6.975951948965885\n",
      "epsilon:\t9.291660168541169\n",
      "Residual:\t0.04687037085052141\n",
      "\n",
      "Current values:\n",
      "n:\t17.288296515971357\n",
      "m:\t6.975947674453155\n",
      "epsilon:\t9.291657918606944\n",
      "Residual:\t0.047166425497054854\n",
      "\n",
      "Current values:\n",
      "n:\t17.288298585804263\n",
      "m:\t6.975953692229971\n",
      "epsilon:\t9.291658427728757\n",
      "Residual:\t0.04668150940892863\n",
      "\n",
      "Optimization Complete\n",
      "-----------------------------------\n"
     ]
    }
   ],
   "source": [
    "from nanoparticle_optimization.optimization import Optimization\n",
    "\n",
    "optimization = Optimization(ff, system, target, configurations=25, verbose=True)\n",
    "optimization.driver()"
   ]
  },
  {
   "cell_type": "code",
   "execution_count": 5,
   "metadata": {
    "collapsed": false,
    "scrolled": true
   },
   "outputs": [
    {
     "data": {
      "text/plain": [
       "<matplotlib.text.Text at 0x1049c6860>"
      ]
     },
     "execution_count": 5,
     "metadata": {},
     "output_type": "execute_result"
    },
    {
     "data": {
      "image/png": "[encoded data removed]",
      "text/plain": [
       "<matplotlib.figure.Figure at 0x112e192b0>"
      ]
     },
     "metadata": {},
     "output_type": "display_data"
    }
   ],
   "source": [
    "matched_potential = [potential[0] for potential in system.calc_potential(optimization.forcefield, \n",
    "                                                            np.linspace(5.85,11,200),\n",
    "                                                            configurations=25)]\n",
    "\n",
    "plt.plot(target.separations, target.potential, linestyle='None', marker='o', color='black')\n",
    "plt.plot(np.linspace(5.85,11,200), matched_potential, marker='None', color='red')\n",
    "plt.xlabel('r, nm')\n",
    "plt.ylabel('U, kcal/mol')"
   ]
  },
  {
   "cell_type": "markdown",
   "metadata": {},
   "source": [
    "The optimized potential between the pseudo-atoms leads to a nanoparticle-nanoparticle interaction potential that closely matches the all-atom target data, with a fit of around 95%."
   ]
  }
 ],
 "metadata": {
  "anaconda-cloud": {},
  "kernelspec": {
   "display_name": "Python 3",
   "language": "python",
   "name": "python3"
  },
  "language_info": {
   "codemirror_mode": {
    "name": "ipython",
    "version": 3
   },
   "file_extension": ".py",
   "mimetype": "text/x-python",
   "name": "python",
   "nbconvert_exporter": "python",
   "pygments_lexer": "ipython3",
   "version": "3.5.2"
  },
  "widgets": {
   "state": {
    "08c3fbd50fc048d4bf96e34c285cb8d6": {
     "views": [
      {
       "cell_index": 3
      }
     ]
    },
    "3bab27205c834102b0660d9cefd9fa66": {
     "views": [
      {
       "cell_index": 3
      }
     ]
    },
    "6300b51b579545d981f86eb1d391ecb2": {
     "views": [
      {
       "cell_index": 3
      }
     ]
    }
   },
   "version": "1.2.0"
  }
 },
 "nbformat": 4,
 "nbformat_minor": 2
}
