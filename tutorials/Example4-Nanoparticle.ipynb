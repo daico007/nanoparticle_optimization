{
 "cells": [
  {
   "cell_type": "markdown",
   "metadata": {},
   "source": [
    "# Deriving Potentials from Atomistic Data\n",
    "\n",
    "Deriving bead-bead interaction parameters using atomistic target data follows an identical procedure to that used in the previous tutorial.\n",
    "\n",
    "First, to provide an idea of what an atomistic nanoparticle looks like, we'll use the `AA_nano` class to carve one from bulk silica with a radius of 4nm."
   ]
  },
  {
   "cell_type": "code",
   "execution_count": 1,
   "metadata": {},
   "outputs": [
    {
     "name": "stderr",
     "output_type": "stream",
     "text": [
      "/Users/summeraz/src/github/mosdef-hub/mbuild/mbuild/compound.py:2183: UserWarning: Guessing that \"<SI pos=( 4.8542, 4.3209, 1.8580), 0 bonds, id: 112271327184>\" is element: \"S\"\n",
      "  atom, element))\n"
     ]
    },
    {
     "data": {
      "application/vnd.jupyter.widget-view+json": {
       "model_id": "a4ec3835c24d4fbca6db8753e5446c93",
       "version_major": 2,
       "version_minor": 0
      },
      "text/plain": [
       "NGLWidget()"
      ]
     },
     "metadata": {},
     "output_type": "display_data"
    }
   ],
   "source": [
    "from nanoparticle_optimization import AA_nano\n",
    "\n",
    "aa_nano = AA_nano(radius=4)\n",
    "aa_nano.visualize()"
   ]
  },
  {
   "cell_type": "markdown",
   "metadata": {},
   "source": [
    "Now, we'll load target data that has been collected for the interaction potential between two of these nanoparticles with radii of 4nm. All target data is included within the NanoOpt repository."
   ]
  },
  {
   "cell_type": "code",
   "execution_count": 3,
   "metadata": {},
   "outputs": [
    {
     "data": {
      "text/plain": [
       "Text(0,0.5,'U, kcal/mol')"
      ]
     },
     "execution_count": 3,
     "metadata": {},
     "output_type": "execute_result"
    },
    {
     "data": {
      "image/png": "[encoded data removed]",
      "text/plain": [
       "<Figure size 432x288 with 1 Axes>"
      ]
     },
     "metadata": {
      "needs_background": "light"
     },
     "output_type": "display_data"
    }
   ],
   "source": [
    "import pkg_resources\n",
    "\n",
    "import numpy as np\n",
    "\n",
    "import nanoparticle_optimization\n",
    "from nanoparticle_optimization.target import load\n",
    "\n",
    "resource_package = nanoparticle_optimization.__name__\n",
    "resource_path = '/'.join(('utils', 'target_data', 'np_np', 'truncated', 'U_4nm_truncated.txt'))\n",
    "target_4nm = load(pkg_resources.resource_filename(resource_package, resource_path))\n",
    "\n",
    "target_4nm.separations /= 10.0\n",
    "\n",
    "import matplotlib.pyplot as plt\n",
    "%matplotlib inline\n",
    "plt.plot(target_4nm.separations, target_4nm.potential, linestyle='None', marker='o', color='black')\n",
    "plt.xlabel('r, nm')\n",
    "plt.ylabel('U, kcal/mol')"
   ]
  },
  {
   "cell_type": "markdown",
   "metadata": {},
   "source": [
    "Let's also go ahead and load the target data for a nanoparticle with a radius of 6nm."
   ]
  },
  {
   "cell_type": "code",
   "execution_count": 4,
   "metadata": {},
   "outputs": [
    {
     "data": {
      "text/plain": [
       "Text(0,0.5,'U, kcal/mol')"
      ]
     },
     "execution_count": 4,
     "metadata": {},
     "output_type": "execute_result"
    },
    {
     "data": {
      "image/png": "[encoded data removed]",
      "text/plain": [
       "<Figure size 432x288 with 1 Axes>"
      ]
     },
     "metadata": {
      "needs_background": "light"
     },
     "output_type": "display_data"
    }
   ],
   "source": [
    "import pkg_resources\n",
    "\n",
    "import numpy as np\n",
    "\n",
    "import nanoparticle_optimization\n",
    "from nanoparticle_optimization.target import load\n",
    "\n",
    "resource_package = nanoparticle_optimization.__name__\n",
    "resource_path = '/'.join(('utils', 'target_data', 'np_np', 'truncated', 'U_6nm_truncated.txt'))\n",
    "target_6nm = load(pkg_resources.resource_filename(resource_package, resource_path))\n",
    "\n",
    "target_6nm.separations /= 10.0\n",
    "\n",
    "import matplotlib.pyplot as plt\n",
    "%matplotlib inline\n",
    "plt.plot(target_6nm.separations, target_6nm.potential, linestyle='None', marker='o', color='black')\n",
    "plt.xlabel('r, nm')\n",
    "plt.ylabel('U, kcal/mol')"
   ]
  },
  {
   "cell_type": "markdown",
   "metadata": {},
   "source": [
    "Now we'll construct the coarse-grained analogs. First, we'll build the CG nanoparticle with a radius of 4nm (we'll use a bead diameter of 0.8nm and a volume fraction of 0.5)."
   ]
  },
  {
   "cell_type": "code",
   "execution_count": 9,
   "metadata": {},
   "outputs": [
    {
     "name": "stderr",
     "output_type": "stream",
     "text": [
      "/Users/summeraz/src/github/mosdef-hub/mbuild/mbuild/compound.py:2183: UserWarning: Guessing that \"<_CGN pos=( 0.3257, 0.0000,-3.7876), 0 bonds, id: 112217734336>\" is element: \"EP\"\n",
      "  atom, element))\n"
     ]
    },
    {
     "data": {
      "application/vnd.jupyter.widget-view+json": {
       "model_id": "e7963da5833f4682acf180ee089d9d80",
       "version_major": 2,
       "version_minor": 0
      },
      "text/plain": [
       "NGLWidget()"
      ]
     },
     "metadata": {},
     "output_type": "display_data"
    }
   ],
   "source": [
    "from nanoparticle_optimization import CG_nano\n",
    "\n",
    "cgnano_4nm = CG_nano(radius=4.0, bead_diameter=0.8, bvf=0.5)\n",
    "cgnano_4nm.visualize()"
   ]
  },
  {
   "cell_type": "markdown",
   "metadata": {},
   "source": [
    "And we'll do the same for a nanoparticle with a radius of 6nm."
   ]
  },
  {
   "cell_type": "code",
   "execution_count": 10,
   "metadata": {},
   "outputs": [],
   "source": [
    "cgnano_6nm = CG_nano(radius=6.0, bead_diameter=0.8, bvf=0.5)"
   ]
  },
  {
   "cell_type": "markdown",
   "metadata": {},
   "source": [
    "Now let's create our two `system`s featuring these nanoparticles, along with the force field (in Mie functional form) that we want to optimize the parameters of. We'll fix the values of `sigma` at 0.8nm as this defines the diameter of the pseudo-atoms.  Since the Mie potential features degeneracy, we will also fix the value of the repulsive exponent, $n$ to 35. So our optimization will only involve epsilon and $m$."
   ]
  },
  {
   "cell_type": "code",
   "execution_count": 11,
   "metadata": {},
   "outputs": [],
   "source": [
    "from nanoparticle_optimization.forcefield import Mie, Parameter\n",
    "from nanoparticle_optimization.system import System\n",
    "\n",
    "sigma = Parameter(value=0.8, fixed=True)\n",
    "epsilon = Parameter(value=6.0, upper=20.0, lower=0.1)\n",
    "n = Parameter(value=35.0, fixed=True)\n",
    "m = Parameter(value=5.0, upper=20.0, lower=3.0)\n",
    "ff = Mie(sigma=sigma, epsilon=epsilon, n=n, m=m)\n",
    "\n",
    "system_4nm = System(cgnano_4nm)\n",
    "system_6nm = System(cgnano_6nm)"
   ]
  },
  {
   "cell_type": "markdown",
   "metadata": {},
   "source": [
    "Now, let's perform the first stage of the three-stage optimization, where we will perform a brute-force optimization over a coarse parameter grid. Note: This will take several minutes to run."
   ]
  },
  {
   "cell_type": "code",
   "execution_count": 12,
   "metadata": {},
   "outputs": [],
   "source": [
    "from nanoparticle_optimization.optimization import Optimization\n",
    "\n",
    "optimization = Optimization(forcefield=ff, systems=[system_4nm, system_6nm], targets=[target_4nm, target_6nm],\n",
    "                                   configurations=10)\n",
    "optimization.optimize(brute_force=True, gridpoints=8, verbose=False,\n",
    "                      r_dependent_sampling=True, maxiter=50, polishing_function=None)"
   ]
  },
  {
   "cell_type": "markdown",
   "metadata": {},
   "source": [
    "Now, we'll use the results from the first stage to define bounds for our second brute-force optimization over a finer grid."
   ]
  },
  {
   "cell_type": "code",
   "execution_count": 13,
   "metadata": {},
   "outputs": [
    {
     "name": "stdout",
     "output_type": "stream",
     "text": [
      "epsilon-max: 8.629,\tepsilon-min: 0.100\n",
      "m-max: 10.286,\tm-min: 3.000\n"
     ]
    }
   ],
   "source": [
    "grid_residuals = optimization.grid_residuals\n",
    "epsilon_vals = optimization.grid[0]\n",
    "m_vals = optimization.grid[1]\n",
    "minimum = np.array(np.unravel_index(grid_residuals.argmin(), grid_residuals.shape))\n",
    "epsilon_at_min = epsilon_vals[minimum[0]][0]\n",
    "m_at_min = m_vals[0][minimum[1]]\n",
    "\n",
    "# Set new bounds\n",
    "try:\n",
    "    emax = epsilon_vals[tuple(minimum + np.array([2, 0]))]\n",
    "except IndexError:\n",
    "    emax = epsilon_vals[-1, 0]\n",
    "if minimum[0] - 2 >= 0:\n",
    "    emin = epsilon_vals[tuple(minimum + np.array([-2, 0]))]\n",
    "else:\n",
    "    emin = epsilon_vals[0, 0]\n",
    "    \n",
    "try:\n",
    "    mmax = m_vals[tuple(minimum + np.array([0, 2]))]\n",
    "except IndexError:\n",
    "    mmax = m_vals[0, -1]\n",
    "if minimum[1] - 2 >= 0:\n",
    "    mmin = m_vals[tuple(minimum + np.array([0, -2]))]\n",
    "else:\n",
    "    mmin = m_vals[0, 0]\n",
    "\n",
    "print('epsilon-max: {:.3f},\\tepsilon-min: {:.3f}'.format(emax, emin))\n",
    "print('m-max: {:.3f},\\tm-min: {:.3f}'.format(mmax, mmin))"
   ]
  },
  {
   "cell_type": "markdown",
   "metadata": {},
   "source": [
    "Now we'll perform the final two stages of the optimization, the second brute-force stage and the polishing stage."
   ]
  },
  {
   "cell_type": "code",
   "execution_count": 14,
   "metadata": {},
   "outputs": [
    {
     "name": "stdout",
     "output_type": "stream",
     "text": [
      "Warning: Maximum number of iterations has been exceeded.\n"
     ]
    }
   ],
   "source": [
    "sigma = Parameter(value=0.8, fixed=True)\n",
    "epsilon = Parameter(value=6.0, upper=emax, lower=emin)\n",
    "n = Parameter(value=35.0, fixed=True)\n",
    "m = Parameter(value=5.0, upper=mmax, lower=mmin)\n",
    "ff = Mie(sigma=sigma, epsilon=epsilon, n=n, m=m)\n",
    "\n",
    "cgnano_4nm = CG_nano(radius=4.0, bead_diameter=0.8, bvf=0.5)\n",
    "cgnano_6nm = CG_nano(radius=6.0, bead_diameter=0.8, bvf=0.5)\n",
    "system_4nm = System(cgnano_4nm)\n",
    "system_6nm = System(cgnano_6nm)\n",
    "optimization = Optimization(forcefield=ff, systems=[system_4nm, system_6nm], targets=[target_4nm, target_6nm],\n",
    "                                   configurations=10)\n",
    "optimization.optimize(brute_force=True, gridpoints=8, verbose=False,\n",
    "                      r_dependent_sampling=True, maxiter=50)"
   ]
  },
  {
   "cell_type": "markdown",
   "metadata": {},
   "source": [
    "Let's see how well we did. First, we'll compare the interaction potential for the nanoparticle with a radius of 4nm."
   ]
  },
  {
   "cell_type": "code",
   "execution_count": 12,
   "metadata": {
    "scrolled": true
   },
   "outputs": [
    {
     "data": {
      "text/plain": [
       "Text(0,0.5,'U, kcal/mol')"
      ]
     },
     "execution_count": 12,
     "metadata": {},
     "output_type": "execute_result"
    },
    {
     "data": {
      "image/png": "[encoded data removed]",
      "text/plain": [
       "<Figure size 432x288 with 1 Axes>"
      ]
     },
     "metadata": {
      "needs_background": "light"
     },
     "output_type": "display_data"
    }
   ],
   "source": [
    "U_opt_4nm, _ = zip(*system_4nm.calc_potential(forcefield=optimization.forcefield, separations=target_4nm.separations))\n",
    "\n",
    "plt.plot(target_4nm.separations, target_4nm.potential, linestyle='None', marker='o', color='black')\n",
    "plt.plot(target_4nm.separations, U_opt_4nm, marker='None', color='red')\n",
    "plt.xlabel('r, nm')\n",
    "plt.ylabel('U, kcal/mol')"
   ]
  },
  {
   "cell_type": "markdown",
   "metadata": {},
   "source": [
    "We get an interaction potential that matches the all-atom result closely. You'll notice that we don't have any data in the repulsive regime for the all-atom data, and that the CG interaction potential well does not quite match up. This is due to the hard-core nature of the nanoparticle-nanoparticle interaction that features a sharp and abrupt increase in this regime where data collection is difficult. Fortunately, in practice nanoparticles will feature a coating and so the regime of short-separations is not our primary concern. Instead, we are focused on reproducing the longer range behavior, which the plot above shows is captured nicely.\n",
    "\n",
    "Finally, let's make sure we also capture the interaction potential of the nanoparticle with a radius of 6nm."
   ]
  },
  {
   "cell_type": "code",
   "execution_count": 15,
   "metadata": {},
   "outputs": [
    {
     "data": {
      "text/plain": [
       "Text(0,0.5,'U, kcal/mol')"
      ]
     },
     "execution_count": 15,
     "metadata": {},
     "output_type": "execute_result"
    },
    {
     "data": {
      "image/png": "[encoded data removed]",
      "text/plain": [
       "<Figure size 432x288 with 1 Axes>"
      ]
     },
     "metadata": {
      "needs_background": "light"
     },
     "output_type": "display_data"
    }
   ],
   "source": [
    "U_opt_6nm, _ = zip(*system_6nm.calc_potential(forcefield=optimization.forcefield, separations=target_6nm.separations))\n",
    "\n",
    "plt.plot(target_6nm.separations, target_6nm.potential, linestyle='None', marker='o', color='black')\n",
    "plt.plot(target_6nm.separations, U_opt_6nm, marker='None', color='red')\n",
    "plt.xlabel('r, nm')\n",
    "plt.ylabel('U, kcal/mol')"
   ]
  },
  {
   "cell_type": "markdown",
   "metadata": {},
   "source": [
    "Again, we see good agreement, showing that we have found bead-bead interaction parameters that are tranferable to multiple nanoparticle sizes."
   ]
  },
  {
   "cell_type": "code",
   "execution_count": null,
   "metadata": {},
   "outputs": [],
   "source": []
  }
 ],
 "metadata": {
  "anaconda-cloud": {},
  "kernelspec": {
   "display_name": "Python 3",
   "language": "python",
   "name": "python3"
  },
  "language_info": {
   "codemirror_mode": {
    "name": "ipython",
    "version": 3
   },
   "file_extension": ".py",
   "mimetype": "text/x-python",
   "name": "python",
   "nbconvert_exporter": "python",
   "pygments_lexer": "ipython3",
   "version": "3.5.5"
  },
  "widgets": {
   "state": {
    "08c3fbd50fc048d4bf96e34c285cb8d6": {
     "views": [
      {
       "cell_index": 3
      }
     ]
    },
    "3bab27205c834102b0660d9cefd9fa66": {
     "views": [
      {
       "cell_index": 3
      }
     ]
    },
    "6300b51b579545d981f86eb1d391ecb2": {
     "views": [
      {
       "cell_index": 3
      }
     ]
    }
   },
   "version": "1.2.0"
  }
 },
 "nbformat": 4,
 "nbformat_minor": 2
}
